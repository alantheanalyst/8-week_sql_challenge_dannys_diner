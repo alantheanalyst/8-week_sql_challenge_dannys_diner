{
    "metadata": {
        "kernelspec": {
            "name": "SQL",
            "display_name": "SQL",
            "language": "sql"
        },
        "language_info": {
            "name": "sql",
            "version": ""
        }
    },
    "nbformat_minor": 2,
    "nbformat": 4,
    "cells": [
        {
            "cell_type": "markdown",
            "source": [
                "**Amount Spent per Customer**"
            ],
            "metadata": {
                "azdata_cell_guid": "9fff6874-b579-45b2-aebf-839754a6f8f2"
            },
            "attachments": {}
        },
        {
            "cell_type": "code",
            "source": [
                "SELECT customer_id, SUM(price) total_sales\r\n",
                "FROM sales s JOIN menu m\r\n",
                "ON s.product_id = m.product_id\r\n",
                "GROUP BY customer_id\r\n",
                "ORDER BY total_sales"
            ],
            "metadata": {
                "azdata_cell_guid": "6996bcb9-be82-4e24-a9b5-c7e582d300f6",
                "language": "sql",
                "tags": []
            },
            "outputs": [
                {
                    "output_type": "display_data",
                    "data": {
                        "text/html": "(3 rows affected)"
                    },
                    "metadata": {}
                },
                {
                    "output_type": "display_data",
                    "data": {
                        "text/html": "Total execution time: 00:00:00.121"
                    },
                    "metadata": {}
                },
                {
                    "output_type": "execute_result",
                    "metadata": {},
                    "execution_count": 1,
                    "data": {
                        "application/vnd.dataresource+json": {
                            "schema": {
                                "fields": [
                                    {
                                        "name": "customer_id"
                                    },
                                    {
                                        "name": "total_sales"
                                    }
                                ]
                            },
                            "data": [
                                {
                                    "customer_id": "C",
                                    "total_sales": "36"
                                },
                                {
                                    "customer_id": "B",
                                    "total_sales": "74"
                                },
                                {
                                    "customer_id": "A",
                                    "total_sales": "76"
                                }
                            ]
                        },
                        "text/html": [
                            "<table>",
                            "<tr><th>customer_id</th><th>total_sales</th></tr>",
                            "<tr><td>C</td><td>36</td></tr>",
                            "<tr><td>B</td><td>74</td></tr>",
                            "<tr><td>A</td><td>76</td></tr>",
                            "</table>"
                        ]
                    }
                }
            ],
            "execution_count": 1
        },
        {
            "cell_type": "markdown",
            "source": [
                "**Time Spent per Customer**"
            ],
            "metadata": {
                "language": "sql",
                "azdata_cell_guid": "0a93debe-7021-4363-9d40-516c6b258047"
            },
            "attachments": {}
        },
        {
            "cell_type": "code",
            "source": [
                "SELECT customer_id, COUNT(DISTINCT order_date) total_visits\r\n",
                "FROM sales\r\n",
                "GROUP BY customer_id\r\n",
                "ORDER BY total_visits"
            ],
            "metadata": {
                "language": "sql",
                "azdata_cell_guid": "fe2012c9-b1c8-4a5f-9d76-f967f76dd531"
            },
            "outputs": [
                {
                    "output_type": "display_data",
                    "data": {
                        "text/html": "(3 rows affected)"
                    },
                    "metadata": {}
                },
                {
                    "output_type": "display_data",
                    "data": {
                        "text/html": "Total execution time: 00:00:00.020"
                    },
                    "metadata": {}
                },
                {
                    "output_type": "execute_result",
                    "metadata": {},
                    "execution_count": 2,
                    "data": {
                        "application/vnd.dataresource+json": {
                            "schema": {
                                "fields": [
                                    {
                                        "name": "customer_id"
                                    },
                                    {
                                        "name": "total_visits"
                                    }
                                ]
                            },
                            "data": [
                                {
                                    "customer_id": "C",
                                    "total_visits": "2"
                                },
                                {
                                    "customer_id": "A",
                                    "total_visits": "4"
                                },
                                {
                                    "customer_id": "B",
                                    "total_visits": "6"
                                }
                            ]
                        },
                        "text/html": [
                            "<table>",
                            "<tr><th>customer_id</th><th>total_visits</th></tr>",
                            "<tr><td>C</td><td>2</td></tr>",
                            "<tr><td>A</td><td>4</td></tr>",
                            "<tr><td>B</td><td>6</td></tr>",
                            "</table>"
                        ]
                    }
                }
            ],
            "execution_count": 2
        },
        {
            "cell_type": "markdown",
            "source": [
                "**First item purchased by each customer**"
            ],
            "metadata": {
                "language": "sql",
                "azdata_cell_guid": "6aaabfa8-a75f-4a27-93e4-5393e645a48c"
            },
            "attachments": {}
        },
        {
            "cell_type": "code",
            "source": [
                "SELECT DISTINCT customer_id, order_date, product_name\r\n",
                "FROM sales sales JOIN menu menu\r\n",
                "ON sales.product_id = menu.product_id\r\n",
                "WHERE order_date = '2021-01-01'\r\n",
                "ORDER BY order_date "
            ],
            "metadata": {
                "language": "sql",
                "azdata_cell_guid": "19c9f69d-f760-477e-b4b1-61a106c7462d"
            },
            "outputs": [
                {
                    "output_type": "display_data",
                    "data": {
                        "text/html": "(4 rows affected)"
                    },
                    "metadata": {}
                },
                {
                    "output_type": "display_data",
                    "data": {
                        "text/html": "Total execution time: 00:00:00.087"
                    },
                    "metadata": {}
                },
                {
                    "output_type": "execute_result",
                    "metadata": {},
                    "execution_count": 3,
                    "data": {
                        "application/vnd.dataresource+json": {
                            "schema": {
                                "fields": [
                                    {
                                        "name": "customer_id"
                                    },
                                    {
                                        "name": "order_date"
                                    },
                                    {
                                        "name": "product_name"
                                    }
                                ]
                            },
                            "data": [
                                {
                                    "customer_id": "A",
                                    "order_date": "2021-01-01",
                                    "product_name": "curry"
                                },
                                {
                                    "customer_id": "A",
                                    "order_date": "2021-01-01",
                                    "product_name": "sushi"
                                },
                                {
                                    "customer_id": "B",
                                    "order_date": "2021-01-01",
                                    "product_name": "curry"
                                },
                                {
                                    "customer_id": "C",
                                    "order_date": "2021-01-01",
                                    "product_name": "ramen"
                                }
                            ]
                        },
                        "text/html": [
                            "<table>",
                            "<tr><th>customer_id</th><th>order_date</th><th>product_name</th></tr>",
                            "<tr><td>A</td><td>2021-01-01</td><td>curry</td></tr>",
                            "<tr><td>A</td><td>2021-01-01</td><td>sushi</td></tr>",
                            "<tr><td>B</td><td>2021-01-01</td><td>curry</td></tr>",
                            "<tr><td>C</td><td>2021-01-01</td><td>ramen</td></tr>",
                            "</table>"
                        ]
                    }
                }
            ],
            "execution_count": 3
        },
        {
            "cell_type": "markdown",
            "source": [
                "**Most popular item**"
            ],
            "metadata": {
                "language": "sql",
                "azdata_cell_guid": "d2157ff6-5abe-4329-8748-8c6f1ff54c5f"
            },
            "attachments": {}
        },
        {
            "cell_type": "code",
            "source": [
                "SELECT top 1 product_name Most_Purchased_Meal, COUNT(product_name) Times_a_Meal_was_Purchased\r\n",
                "FROM menu menu JOIN sales sales\r\n",
                "ON menu.product_id = sales.product_id\r\n",
                "GROUP BY product_name\r\n",
                "ORDER BY Times_a_Meal_was_Purchased DESC"
            ],
            "metadata": {
                "language": "sql",
                "azdata_cell_guid": "3538fee9-5ef0-4cde-a40e-776426b49bcb"
            },
            "outputs": [
                {
                    "output_type": "display_data",
                    "data": {
                        "text/html": "(1 row affected)"
                    },
                    "metadata": {}
                },
                {
                    "output_type": "display_data",
                    "data": {
                        "text/html": "Total execution time: 00:00:00.029"
                    },
                    "metadata": {}
                },
                {
                    "output_type": "execute_result",
                    "metadata": {},
                    "execution_count": 4,
                    "data": {
                        "application/vnd.dataresource+json": {
                            "schema": {
                                "fields": [
                                    {
                                        "name": "Most_Purchased_Meal"
                                    },
                                    {
                                        "name": "Times_a_Meal_was_Purchased"
                                    }
                                ]
                            },
                            "data": [
                                {
                                    "Most_Purchased_Meal": "ramen",
                                    "Times_a_Meal_was_Purchased": "8"
                                }
                            ]
                        },
                        "text/html": [
                            "<table>",
                            "<tr><th>Most_Purchased_Meal</th><th>Times_a_Meal_was_Purchased</th></tr>",
                            "<tr><td>ramen</td><td>8</td></tr>",
                            "</table>"
                        ]
                    }
                }
            ],
            "execution_count": 4
        },
        {
            "cell_type": "markdown",
            "source": [
                "**Times Customers Purchased Ramen**"
            ],
            "metadata": {
                "language": "sql",
                "azdata_cell_guid": "533aff28-e7c6-4d9a-a725-7019b5f01b30"
            },
            "attachments": {}
        },
        {
            "cell_type": "code",
            "source": [
                "SELECT customer_id, product_name, COUNT(product_name) ramen_count\r\n",
                "FROM menu menu JOIN sales sales\r\n",
                "ON menu.product_id = sales.product_id\r\n",
                "WHERE product_name = 'Ramen'\r\n",
                "GROUP BY customer_id, product_name"
            ],
            "metadata": {
                "language": "sql",
                "azdata_cell_guid": "c377d581-1caa-4ea8-8128-a59b2582b50b"
            },
            "outputs": [
                {
                    "output_type": "display_data",
                    "data": {
                        "text/html": "(3 rows affected)"
                    },
                    "metadata": {}
                },
                {
                    "output_type": "display_data",
                    "data": {
                        "text/html": "Total execution time: 00:00:00.021"
                    },
                    "metadata": {}
                },
                {
                    "output_type": "execute_result",
                    "metadata": {},
                    "execution_count": 5,
                    "data": {
                        "application/vnd.dataresource+json": {
                            "schema": {
                                "fields": [
                                    {
                                        "name": "customer_id"
                                    },
                                    {
                                        "name": "product_name"
                                    },
                                    {
                                        "name": "ramen_count"
                                    }
                                ]
                            },
                            "data": [
                                {
                                    "customer_id": "A",
                                    "product_name": "ramen",
                                    "ramen_count": "3"
                                },
                                {
                                    "customer_id": "B",
                                    "product_name": "ramen",
                                    "ramen_count": "2"
                                },
                                {
                                    "customer_id": "C",
                                    "product_name": "ramen",
                                    "ramen_count": "3"
                                }
                            ]
                        },
                        "text/html": [
                            "<table>",
                            "<tr><th>customer_id</th><th>product_name</th><th>ramen_count</th></tr>",
                            "<tr><td>A</td><td>ramen</td><td>3</td></tr>",
                            "<tr><td>B</td><td>ramen</td><td>2</td></tr>",
                            "<tr><td>C</td><td>ramen</td><td>3</td></tr>",
                            "</table>"
                        ]
                    }
                }
            ],
            "execution_count": 5
        },
        {
            "cell_type": "markdown",
            "source": [
                "**Most popular item per customer**"
            ],
            "metadata": {
                "language": "sql",
                "azdata_cell_guid": "48435632-1af4-4a31-972f-8fa6ead6f813"
            },
            "attachments": {}
        },
        {
            "cell_type": "code",
            "source": [
                "SELECT DISTINCT customer_id, product_name, COUNT(sales.product_id) order_count\r\n",
                "FROM sales sales JOIN menu menu\r\n",
                "ON sales.product_id = menu.product_id\r\n",
                "WHERE NOT customer_id = 'A' OR NOT sales.product_id IN (1, 2)\r\n",
                "GROUP BY customer_id, product_name\r\n",
                "ORDER BY customer_id, order_count DESC"
            ],
            "metadata": {
                "language": "sql",
                "azdata_cell_guid": "295530f5-ff16-442c-a722-14943aaafaa4"
            },
            "outputs": [
                {
                    "output_type": "display_data",
                    "data": {
                        "text/html": "(5 rows affected)"
                    },
                    "metadata": {}
                },
                {
                    "output_type": "display_data",
                    "data": {
                        "text/html": "Total execution time: 00:00:00.017"
                    },
                    "metadata": {}
                },
                {
                    "output_type": "execute_result",
                    "metadata": {},
                    "execution_count": 6,
                    "data": {
                        "application/vnd.dataresource+json": {
                            "schema": {
                                "fields": [
                                    {
                                        "name": "customer_id"
                                    },
                                    {
                                        "name": "product_name"
                                    },
                                    {
                                        "name": "order_count"
                                    }
                                ]
                            },
                            "data": [
                                {
                                    "customer_id": "A",
                                    "product_name": "ramen",
                                    "order_count": "3"
                                },
                                {
                                    "customer_id": "B",
                                    "product_name": "ramen",
                                    "order_count": "2"
                                },
                                {
                                    "customer_id": "B",
                                    "product_name": "curry",
                                    "order_count": "2"
                                },
                                {
                                    "customer_id": "B",
                                    "product_name": "sushi",
                                    "order_count": "2"
                                },
                                {
                                    "customer_id": "C",
                                    "product_name": "ramen",
                                    "order_count": "3"
                                }
                            ]
                        },
                        "text/html": [
                            "<table>",
                            "<tr><th>customer_id</th><th>product_name</th><th>order_count</th></tr>",
                            "<tr><td>A</td><td>ramen</td><td>3</td></tr>",
                            "<tr><td>B</td><td>ramen</td><td>2</td></tr>",
                            "<tr><td>B</td><td>curry</td><td>2</td></tr>",
                            "<tr><td>B</td><td>sushi</td><td>2</td></tr>",
                            "<tr><td>C</td><td>ramen</td><td>3</td></tr>",
                            "</table>"
                        ]
                    }
                }
            ],
            "execution_count": 6
        },
        {
            "cell_type": "markdown",
            "source": [
                "**First Item Purchased by Customers after becoming members**"
            ],
            "metadata": {
                "language": "sql",
                "azdata_cell_guid": "8c41e3fd-8f78-4f61-aa08-b75531b60395"
            },
            "attachments": {}
        },
        {
            "cell_type": "code",
            "source": [
                "WITH member_sales AS (\r\n",
                "SELECT s.customer_id, order_date, product_name,\r\n",
                "DENSE_RANK() OVER(PARTITION BY s.customer_id ORDER BY order_date) rank\r\n",
                "FROM sales s JOIN menu m\r\n",
                "ON s.product_id = m.product_id JOIN members m2 \r\n",
                "ON s.customer_id = m2.customer_id\r\n",
                "WHERE order_date > join_date\r\n",
                ")\r\n",
                "SELECT customer_id, product_name\r\n",
                "FROM member_sales\r\n",
                "WHERE rank = 1"
            ],
            "metadata": {
                "language": "sql",
                "azdata_cell_guid": "6575a479-a6b7-4613-8a4c-f43d97477f5c"
            },
            "outputs": [
                {
                    "output_type": "display_data",
                    "data": {
                        "text/html": "(2 rows affected)"
                    },
                    "metadata": {}
                },
                {
                    "output_type": "display_data",
                    "data": {
                        "text/html": "Total execution time: 00:00:00.021"
                    },
                    "metadata": {}
                },
                {
                    "output_type": "execute_result",
                    "metadata": {},
                    "execution_count": 7,
                    "data": {
                        "application/vnd.dataresource+json": {
                            "schema": {
                                "fields": [
                                    {
                                        "name": "customer_id"
                                    },
                                    {
                                        "name": "product_name"
                                    }
                                ]
                            },
                            "data": [
                                {
                                    "customer_id": "A",
                                    "product_name": "ramen"
                                },
                                {
                                    "customer_id": "B",
                                    "product_name": "sushi"
                                }
                            ]
                        },
                        "text/html": [
                            "<table>",
                            "<tr><th>customer_id</th><th>product_name</th></tr>",
                            "<tr><td>A</td><td>ramen</td></tr>",
                            "<tr><td>B</td><td>sushi</td></tr>",
                            "</table>"
                        ]
                    }
                }
            ],
            "execution_count": 7
        },
        {
            "cell_type": "markdown",
            "source": [
                "**First items purchased by members before becoming members**"
            ],
            "metadata": {
                "language": "sql",
                "azdata_cell_guid": "2001e17a-765a-4c04-8d88-bdf369b7895a"
            },
            "attachments": {}
        },
        {
            "cell_type": "code",
            "source": [
                "WITH member_sales AS (\r\n",
                "SELECT s.customer_id, product_name, order_date,\r\n",
                "DENSE_RANK() OVER(PARTITION BY s.customer_id ORDER BY order_date DESC) rank\r\n",
                "FROM sales s JOIN menu m\r\n",
                "ON s.product_id = m.product_id JOIN members m2\r\n",
                "ON s.customer_id = m2.customer_id\r\n",
                "WHERE order_date < join_date\r\n",
                ")\r\n",
                "SELECT DISTINCT customer_id, product_name, order_date\r\n",
                "FROM member_sales\r\n",
                "WHERE rank = 1"
            ],
            "metadata": {
                "language": "sql",
                "azdata_cell_guid": "9c7cb5f8-d220-47b0-a9c0-e88e150e21c0"
            },
            "outputs": [
                {
                    "output_type": "display_data",
                    "data": {
                        "text/html": "(3 rows affected)"
                    },
                    "metadata": {}
                },
                {
                    "output_type": "display_data",
                    "data": {
                        "text/html": "Total execution time: 00:00:00.022"
                    },
                    "metadata": {}
                },
                {
                    "output_type": "execute_result",
                    "metadata": {},
                    "execution_count": 8,
                    "data": {
                        "application/vnd.dataresource+json": {
                            "schema": {
                                "fields": [
                                    {
                                        "name": "customer_id"
                                    },
                                    {
                                        "name": "product_name"
                                    },
                                    {
                                        "name": "order_date"
                                    }
                                ]
                            },
                            "data": [
                                {
                                    "customer_id": "A",
                                    "product_name": "curry",
                                    "order_date": "2021-01-01"
                                },
                                {
                                    "customer_id": "A",
                                    "product_name": "sushi",
                                    "order_date": "2021-01-01"
                                },
                                {
                                    "customer_id": "B",
                                    "product_name": "sushi",
                                    "order_date": "2021-01-04"
                                }
                            ]
                        },
                        "text/html": [
                            "<table>",
                            "<tr><th>customer_id</th><th>product_name</th><th>order_date</th></tr>",
                            "<tr><td>A</td><td>curry</td><td>2021-01-01</td></tr>",
                            "<tr><td>A</td><td>sushi</td><td>2021-01-01</td></tr>",
                            "<tr><td>B</td><td>sushi</td><td>2021-01-04</td></tr>",
                            "</table>"
                        ]
                    }
                }
            ],
            "execution_count": 8
        },
        {
            "cell_type": "markdown",
            "source": [
                "**Number of items purchased and amount spent by members before their membersips**"
            ],
            "metadata": {
                "language": "",
                "azdata_cell_guid": "dc67219d-8eac-438d-b9f5-ebb43115ff16"
            },
            "attachments": {}
        },
        {
            "cell_type": "code",
            "source": [
                "WITH total_cte AS\r\n",
                "(SELECT s.customer_id, JOIN_date, order_date, product_id\r\n",
                "FROM sales s JOIN members m\r\n",
                "ON s.customer_id = m.customer_id\r\n",
                "WHERE order_date < JOIN_date)\r\n",
                "SELECT customer_id, SUM(cte.product_id) total_items_purhcased, SUM(price) total_amount\r\n",
                "FROM total_cte cte JOIN menu m\r\n",
                "\ton cte.product_id = m.product_id\r\n",
                "GROUP BY cte.customer_id"
            ],
            "metadata": {
                "azdata_cell_guid": "43022ed9-1044-497c-888a-edaab7776a0a",
                "language": "sql"
            },
            "outputs": [
                {
                    "output_type": "display_data",
                    "data": {
                        "text/html": "(2 rows affected)"
                    },
                    "metadata": {}
                },
                {
                    "output_type": "display_data",
                    "data": {
                        "text/html": "Total execution time: 00:00:00.023"
                    },
                    "metadata": {}
                },
                {
                    "output_type": "execute_result",
                    "metadata": {},
                    "execution_count": 9,
                    "data": {
                        "application/vnd.dataresource+json": {
                            "schema": {
                                "fields": [
                                    {
                                        "name": "customer_id"
                                    },
                                    {
                                        "name": "total_items_purhcased"
                                    },
                                    {
                                        "name": "total_amount"
                                    }
                                ]
                            },
                            "data": [
                                {
                                    "customer_id": "A",
                                    "total_items_purhcased": "3",
                                    "total_amount": "25"
                                },
                                {
                                    "customer_id": "B",
                                    "total_items_purhcased": "5",
                                    "total_amount": "40"
                                }
                            ]
                        },
                        "text/html": [
                            "<table>",
                            "<tr><th>customer_id</th><th>total_items_purhcased</th><th>total_amount</th></tr>",
                            "<tr><td>A</td><td>3</td><td>25</td></tr>",
                            "<tr><td>B</td><td>5</td><td>40</td></tr>",
                            "</table>"
                        ]
                    }
                }
            ],
            "execution_count": 9
        },
        {
            "cell_type": "markdown",
            "source": [
                "**Points earned per customer ($1.00 = 10 points & Sushi has 2x points mulitplyer)**"
            ],
            "metadata": {
                "language": "sql",
                "azdata_cell_guid": "8da53be3-2556-4979-90f1-58da0f580df0"
            },
            "attachments": {}
        },
        {
            "cell_type": "code",
            "source": [
                "SELECT customer_id,\r\n",
                "SUM(\r\n",
                "CASE\r\n",
                "\tWHEN sales.product_id in (2, 3) THEN (price * 10)\r\n",
                "\tELSE (price * 20)\r\n",
                "END) points\r\n",
                "FROM sales sales JOIN menu menu\r\n",
                "ON sales.product_id = menu.product_id\r\n",
                "GROUP BY customer_id\r\n",
                "ORDER BY points"
            ],
            "metadata": {
                "language": "sql",
                "azdata_cell_guid": "0331343e-c28c-4d0c-91ef-b12f9991744e"
            },
            "outputs": [
                {
                    "output_type": "display_data",
                    "data": {
                        "text/html": "(3 rows affected)"
                    },
                    "metadata": {}
                },
                {
                    "output_type": "display_data",
                    "data": {
                        "text/html": "Total execution time: 00:00:00.017"
                    },
                    "metadata": {}
                },
                {
                    "output_type": "execute_result",
                    "metadata": {},
                    "execution_count": 10,
                    "data": {
                        "application/vnd.dataresource+json": {
                            "schema": {
                                "fields": [
                                    {
                                        "name": "customer_id"
                                    },
                                    {
                                        "name": "points"
                                    }
                                ]
                            },
                            "data": [
                                {
                                    "customer_id": "C",
                                    "points": "360"
                                },
                                {
                                    "customer_id": "A",
                                    "points": "860"
                                },
                                {
                                    "customer_id": "B",
                                    "points": "940"
                                }
                            ]
                        },
                        "text/html": [
                            "<table>",
                            "<tr><th>customer_id</th><th>points</th></tr>",
                            "<tr><td>C</td><td>360</td></tr>",
                            "<tr><td>A</td><td>860</td></tr>",
                            "<tr><td>B</td><td>940</td></tr>",
                            "</table>"
                        ]
                    }
                }
            ],
            "execution_count": 10
        },
        {
            "cell_type": "markdown",
            "source": [
                "**Points earned per Customer if all items give 2x on the first week of membership**"
            ],
            "metadata": {
                "language": "sql",
                "azdata_cell_guid": "a8499694-2433-4ebc-a628-e22b0f7786c3"
            },
            "attachments": {}
        },
        {
            "cell_type": "code",
            "source": [
                "WITH cte as (\r\n",
                "SELECT customer_id\r\n",
                ", join_date\r\n",
                ", DATEADD(DAY, 6, join_date) AS day_7\r\n",
                "FROM members\r\n",
                ")\r\n",
                "SELECT a.customer_id, \r\n",
                "SUM(CASE\r\n",
                "    WHEN product_name = 'sushi' THEN price * 20\r\n",
                "    WHEN order_date BETWEEN join_date AND day_7 THEN price * 20\r\n",
                "    ELSE price * 10 END) AS points\r\n",
                "FROM sales a\r\n",
                "JOIN cte \r\n",
                " ON a.customer_id = cte.customer_id\r\n",
                "JOIN menu c\r\n",
                " ON a.product_id = c.product_id\r\n",
                " where order_date <= '2021-01-31'\r\n",
                "GROUP BY a.customer_id"
            ],
            "metadata": {
                "language": "sql",
                "azdata_cell_guid": "8a859621-72e2-481f-bf11-bdf7a9ccd116"
            },
            "outputs": [
                {
                    "output_type": "display_data",
                    "data": {
                        "text/html": "(2 rows affected)"
                    },
                    "metadata": {}
                },
                {
                    "output_type": "display_data",
                    "data": {
                        "text/html": "Total execution time: 00:00:00.018"
                    },
                    "metadata": {}
                },
                {
                    "output_type": "execute_result",
                    "metadata": {},
                    "execution_count": 11,
                    "data": {
                        "application/vnd.dataresource+json": {
                            "schema": {
                                "fields": [
                                    {
                                        "name": "customer_id"
                                    },
                                    {
                                        "name": "points"
                                    }
                                ]
                            },
                            "data": [
                                {
                                    "customer_id": "A",
                                    "points": "1370"
                                },
                                {
                                    "customer_id": "B",
                                    "points": "820"
                                }
                            ]
                        },
                        "text/html": [
                            "<table>",
                            "<tr><th>customer_id</th><th>points</th></tr>",
                            "<tr><td>A</td><td>1370</td></tr>",
                            "<tr><td>B</td><td>820</td></tr>",
                            "</table>"
                        ]
                    }
                }
            ],
            "execution_count": 11
        }
    ]
}